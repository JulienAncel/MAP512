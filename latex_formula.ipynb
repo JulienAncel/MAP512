{
 "cells": [
  {
   "cell_type": "code",
   "execution_count": 152,
   "metadata": {},
   "outputs": [],
   "source": [
    "class Expression:\n",
    "    def __init__(self, string):\n",
    "        self.string = string\n",
    "        return\n",
    "\n",
    "    def __str__(self):\n",
    "        return self.string\n",
    "    \n",
    "    def __mul__(self, other):\n",
    "        return Expression(str(self)+str(other))\n",
    "    \n",
    "    def __add__(self, y):\n",
    "        return Expression(str(self) +\"+\" + str(y))\n",
    "\n",
    "    def __sub__(self, y):\n",
    "        return Expression(str(self) +\"-\" + str(y))    \n",
    "\n",
    "class X(Expression):\n",
    "    # X(p,i) = A^pf(x_k+i)\n",
    "    def __init__(self, p=-1, i=0, k=\"k\"):\n",
    "        if i == 0:\n",
    "            self.k = k\n",
    "        else:\n",
    "            self.k = k + \"+{}\".format(i)\n",
    "        self.A_ = \"\\\\right)\"\n",
    "        if p == -1:\n",
    "            self.A = \"\"\n",
    "            self.A_ = \"\"\n",
    "        elif p == 0:\n",
    "            self.A = \"f\\\\left(\"\n",
    "        elif p == 1:\n",
    "            self.A = \"Af\\\\left(\"\n",
    "        else:\n",
    "            self.A = \"A^{}f\\\\left(\".format(p)\n",
    "    def __str__(self):\n",
    "        return \"{}\\\\overline{{X}}_{{\\\\Gamma_{{{}}}}}{}\".format(self.A, self.k, self.A_)\n",
    "\n",
    "class G(Expression):\n",
    "    # G(i,p,den) = (gamma^p) / den\n",
    "    def __init__(self, i=0, p=1, den=1, k=\"k\"):\n",
    "        if p == 1:\n",
    "            self.g = \"\\\\gamma\"\n",
    "        else:\n",
    "            self.g = \"\\\\gamma^{}\".format(p)\n",
    "        if i == 0:\n",
    "            self.k = \"_k\"\n",
    "        else:\n",
    "            self.k = \"_{{k + {}}}\".format(i)\n",
    "        self.k = \"\"\n",
    "        self.den = den\n",
    "    def __str__(self):\n",
    "        if self.den == 1:\n",
    "            return self.g + self.k\n",
    "        else:\n",
    "            return \"\\\\frac{{ {} }}{{ {} }}\".format(self.g+self.k, self.den)\n",
    "\n",
    "class B(Expression):\n",
    "    # B(i,p,xi,e) = B_i A^pf(x_(k+xi), x_(k+xi+1), gamma, e)\n",
    "    def __init__(self, i=1, p=0, xi=0, e=0, k=\"k\"):\n",
    "        self.B = \"B_{}\".format(i)\n",
    "        if p == 0:\n",
    "            self.A = \"f\\\\left(\"\n",
    "        elif p == 1:\n",
    "            self.A = \"Af\\\\left(\"\n",
    "        else:\n",
    "            self.A = \"A^{}f\\\\left(\".format(p)\n",
    "        self.A_ = \"\\\\right)\"\n",
    "        \n",
    "        self.x1 = X(-1, xi, k)\n",
    "        self.x2 = X(-1, xi+1, k)\n",
    "        self.gamma = G(0, 1, 1, k)\n",
    "        if i == 3:\n",
    "            self.e = \", \" + str(e)\n",
    "        else:\n",
    "            self.e = \"\"\n",
    "    \n",
    "    def __str__(self):\n",
    "        return self.B + self.A + str(self.x1) + \", \" + str(self.x2) + \", \" + str(self.gamma) + self.e + self.A_\n",
    "    \n",
    "class R(Expression):\n",
    "    # R(i,p,xi,e) = R_i A^pf(X_)\n",
    "    def __init__(self, i=1, p=0, xi=0, e=0, k=\"k\"):\n",
    "        self.R = \"R_{}\".format(i)\n",
    "        if p == 0:\n",
    "            self.A = \"f\\\\left(\"\n",
    "        elif p == 1:\n",
    "            self.A = \"Af\\\\left(\"\n",
    "        else:\n",
    "            self.A = \"A^{}f\\\\left(\".format(p)\n",
    "        self.A_ = \"\\\\right)\"\n",
    "        \n",
    "        self.x1 = X(-1, xi, k)\n",
    "        self.gamma = G(0, 1, 1, k)\n",
    "        if i == 3:\n",
    "            self.e = \", \" + str(e)\n",
    "        else:\n",
    "            self.e = \"\"\n",
    "\n",
    "    def __str__(self):\n",
    "        return self.R + self.A + str(self.x1) + \", \" + str(self.gamma) + self.e + self.A_        "
   ]
  },
  {
   "cell_type": "code",
   "execution_count": 153,
   "metadata": {},
   "outputs": [
    {
     "name": "stdout",
     "output_type": "stream",
     "text": [
      "\\frac{ \\gamma^2 }{ 3 }\n",
      "A^2f\\left(\\overline{X}_{\\Gamma_{k+2}}\\right)\n",
      "\\overline{X}_{\\Gamma_{k}}-f\\left(\\overline{X}_{\\Gamma_{k+1}}\\right)\n",
      "\\frac{ \\gamma^2 }{ 3 }\\overline{X}_{\\Gamma_{k}}+f\\left(\\overline{X}_{\\Gamma_{k+1}}\\right)\n",
      "B_1Af\\left(\\overline{X}_{\\Gamma_{k}}, \\overline{X}_{\\Gamma_{k+1}}, \\gamma\\right)\n",
      "B_3f\\left(\\overline{X}_{\\Gamma_{k+2}}, \\overline{X}_{\\Gamma_{k+3}}, \\gamma, 0\\right)\n"
     ]
    }
   ],
   "source": [
    "# X(p,i) = A^pf(x_k+i)\n",
    "# G(i,p,den) = (gamma^p) / den\n",
    "# B(i,p,xi,e) = B_i A^pf(x_(k+xi), x_(k+xi+1), gamma, e)\n",
    "# R(i,p,xi,e) = R_i A^pf(X_)\n",
    "xk = X()\n",
    "xk_1 = X(p=0, i=1)\n",
    "xk_2 = X(p=0, i=2)\n",
    "A2xk_2 = X(p=2, i=2)\n",
    "g = G(1, 2, 3)\n",
    "print(g)\n",
    "print(A2xk_2)\n",
    "print(xk - xk_1)\n",
    "print(g * xk + xk_1)\n",
    "print(B(1, 1, 0, 0))\n",
    "print(B(3, 0, 2, 0))"
   ]
  },
  {
   "cell_type": "code",
   "execution_count": 156,
   "metadata": {},
   "outputs": [
    {
     "name": "stdout",
     "output_type": "stream",
     "text": [
      "R_1f\\left(\\overline{X}_{\\Gamma_{k+1}}, \\gamma\\right)\n",
      "R_3A^2f\\left(\\overline{X}_{\\Gamma_{k+2}}, \\gamma, 1\\right)\n"
     ]
    }
   ],
   "source": [
    "print(R(1,0,1))\n",
    "print(R(3,2,2,1))"
   ]
  },
  {
   "cell_type": "markdown",
   "metadata": {},
   "source": [
    "$$\n",
    "Af\\left(\\overline{X}_{\\Gamma_{k}}\\right)-Af\\left(\\overline{X}_{\\Gamma_{k+1}}\\right)\n",
    "$$\n",
    "$$\n",
    "B_1Af\\left(\\overline{X}_{\\Gamma_{k}}, \\overline{X}_{\\Gamma_{k+1}}, \\gamma\\right)\n",
    "B_3f\\left(\\overline{X}_{\\Gamma_{k+2}}, \\overline{X}_{\\Gamma_{k+3}}, \\gamma, 0\\right)\n",
    "$$"
   ]
  },
  {
   "cell_type": "markdown",
   "metadata": {},
   "source": [
    "$$R_1f\\left(\\overline{X}_{\\Gamma_{k+1}}, \\gamma\\right)$$\n",
    "$$R_3A^2f\\left(\\overline{X}_{\\Gamma_{k+2}}, \\gamma, 1\\right)$$"
   ]
  }
 ],
 "metadata": {
  "kernelspec": {
   "display_name": "Python 3",
   "language": "python",
   "name": "python3"
  },
  "language_info": {
   "codemirror_mode": {
    "name": "ipython",
    "version": 3
   },
   "file_extension": ".py",
   "mimetype": "text/x-python",
   "name": "python",
   "nbconvert_exporter": "python",
   "pygments_lexer": "ipython3",
   "version": "3.8.5"
  }
 },
 "nbformat": 4,
 "nbformat_minor": 4
}
